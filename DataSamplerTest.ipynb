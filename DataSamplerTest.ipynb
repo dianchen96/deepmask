{
 "cells": [
  {
   "cell_type": "code",
   "execution_count": null,
   "metadata": {
    "scrolled": false
   },
   "outputs": [],
   "source": [
    "-- require 'torch'\n",
    "require 'image'\n",
    "local class = require 'class'\n",
    "\n",
    "local fake_config = class('fake_config')\n",
    "\n",
    "function fake_config:__init()\n",
    "    self.iSz = 160\n",
    "    self.gSz = 112\n",
    "    self.scale = 0.25\n",
    "    self.shift = 16\n",
    "    self.negJetteringMin = 24\n",
    "    self.negJetteringMax = 96\n",
    "    self.hfreq = 0.5\n",
    "    self.maxload = 4000\n",
    "    self.testmaxload = 500\n",
    "    self.batch = 32\n",
    "end\n",
    "local config = fake_config()\n",
    "paths.dofile(\"/home/fred/Desktop/deepmask_tune/DataSampler_robot.lua\")\n",
    "DataSampler = DataSampler_robot(config, \"train\")\n",
    "print(\"DataSampler_robot size\")\n",
    "print(DataSampler:size())\n",
    "\n",
    "\n",
    "print(\"###################start testing data feedin pipeline######################\")\n",
    "print(\"get head 1, pos data\")\n",
    "for i=1,50 do\n",
    "    -- label is msk\n",
    "    local img,label = DataSampler:get(1)\n",
    "    itorch.image(img)\n",
    "    itorch.image(label)\n",
    "end\n",
    "print(\"get head 2, pos/neg data\")\n",
    "for i=1,50 do\n",
    "    -- label is score (1/0)\n",
    "    local img,label = DataSampler:get(2)\n",
    "    itorch.image(img)\n",
    "    print(label)\n",
    "end"
   ]
  },
  {
   "cell_type": "code",
   "execution_count": null,
   "metadata": {
    "scrolled": false
   },
   "outputs": [],
   "source": [
    "local datarobot = require 'DataRobot'\n",
    "local test = torch.load('/media/4tb/dian/deepmask_sawyer/robot/dataRobot.t7')\n"
   ]
  },
  {
   "cell_type": "code",
   "execution_count": null,
   "metadata": {},
   "outputs": [],
   "source": [
    "paths.dofile(\"./DataSampler_robot.lua\")\n"
   ]
  },
  {
   "cell_type": "code",
   "execution_count": null,
   "metadata": {
    "collapsed": true
   },
   "outputs": [],
   "source": []
  }
 ],
 "metadata": {
  "kernelspec": {
   "display_name": "iTorch",
   "language": "lua",
   "name": "itorch"
  },
  "language_info": {
   "name": "lua",
   "version": "5.1"
  }
 },
 "nbformat": 4,
 "nbformat_minor": 2
}
